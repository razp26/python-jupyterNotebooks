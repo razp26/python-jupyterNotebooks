{
 "cells": [
  {
   "cell_type": "code",
   "execution_count": 2,
   "metadata": {},
   "outputs": [
    {
     "name": "stdout",
     "output_type": "stream",
     "text": [
      "DONE\n"
     ]
    }
   ],
   "source": [
    "import numpy as np\n",
    "import tensorflow as tf\n",
    "\n",
    "data = np.load('proyecto_training_data.npy')\n",
    "n_train_rows = int(np.shape(data)[0]*0.8)\n",
    "data_train = data[0:n_train_rows]\n",
    "\n",
    "n_test_rows = int(np.shape(data)[0]*0.2)\n",
    "data_test = data[-1*n_test_rows:]\n",
    "\n",
    "x_overall_quality = data_train[:,1].astype(np.float64)\n",
    "y_overall_quality = data_train[:,0].astype(np.float64)\n",
    "epochs_overall_quality = 60000\n",
    "imprimir_error_cada_overall_quality = 5000\n",
    "learning_rate_overall_quality = 0.012\n",
    "\n",
    "print ('DONE')\n"
   ]
  },
  {
   "cell_type": "code",
   "execution_count": 3,
   "metadata": {},
   "outputs": [],
   "source": [
    "def modelo_lineal_tf(x, y, epochs, imprimir_error_cada, lr):\n",
    "    \n",
    "    X = tf.placeholder(\"float\") \n",
    "    Y = tf.placeholder(\"float\") \n",
    "    \n",
    "    # Declaramos dos variables, una para los \"weights\" y la otra para \"biases\" y los inicializaremos con valores aleatorios.\n",
    "    m = tf.Variable(np.random.randn(), name=\"m\")\n",
    "    b = tf.Variable(np.random.randn(), name=\"b\")\n",
    "    \n",
    "    # Construimos la hipótesis o modelo de regresion lineal \n",
    "    #yhat = tf.add(tf.multiply(x, m), b)\n",
    "    yhat = tf.add(x * m, b)\n",
    "    \n",
    "    # Definimos la función de costo (error)\n",
    "    costo = tf.reduce_sum(tf.pow(yhat-y, 2)) / (2 * len(x))\n",
    "    \n",
    "    # Aplicamos el optimizador de Gradient Descent\n",
    "    optimizador = tf.train.GradientDescentOptimizer(lr).minimize(costo)\n",
    "    \n",
    "    # Inicializamos las variables globales\n",
    "    init = tf.global_variables_initializer()\n",
    "    \n",
    "    print('INICIANDO LA SESION')\n",
    "    \n",
    "    with tf.Session() as session:\n",
    "        \n",
    "        # Inicializamos las variables en la sesion\n",
    "        session.run(init)\n",
    "        \n",
    "        # Iteramos el número de veces que indica el parámetro \"epochs\"\n",
    "        for epoch in range(epochs):\n",
    "            \n",
    "            #\n",
    "            for (_x, _y) in zip (x,y):\n",
    "                session.run(optimizador, feed_dict = {X: _x, Y: _y})\n",
    "                \n",
    "            # Verificamos si debemos de imprimir el resultado\n",
    "            if (epoch + 1) % imprimir_error_cada == 0:\n",
    "\n",
    "                # Calculamos el costo de cada epoch\n",
    "                c = session.run(costo, feed_dict = {X: x, Y: y})\n",
    "                print('Iteración: ' + str(epoch + 1))\n",
    "                print('Error del modelo: ' + str(c))\n",
    "                \n",
    "        # Obtenemos el costo y los estimados para Weights y Bias\n",
    "        costos = session.run(costo, feed_dict = {X: x, Y: y})\n",
    "        weights = session.run(m)\n",
    "        bias = session.run(b)\n",
    "        \n",
    "        # retornamos el resultado de la estimación\n",
    "        return costos, weights, bias"
   ]
  },
  {
   "cell_type": "code",
   "execution_count": null,
   "metadata": {},
   "outputs": [
    {
     "name": "stdout",
     "output_type": "stream",
     "text": [
      "INICIANDO\n",
      "WARNING:tensorflow:From C:\\Users\\Chofo\\Anaconda3\\envs\\galileo_python\\lib\\site-packages\\tensorflow\\python\\framework\\op_def_library.py:263: colocate_with (from tensorflow.python.framework.ops) is deprecated and will be removed in a future version.\n",
      "Instructions for updating:\n",
      "Colocations handled automatically by placer.\n",
      "INICIANDO LA SESION\n"
     ]
    }
   ],
   "source": [
    "print('INICIANDO')\n",
    "errores, ms, bs = modelo_lineal_tf(x_overall_quality, y_overall_quality, epochs_overall_quality, imprimir_error_cada_overall_quality, learning_rate_overall_quality)"
   ]
  }
 ],
 "metadata": {
  "kernelspec": {
   "display_name": "Python 3",
   "language": "python",
   "name": "python3"
  },
  "language_info": {
   "codemirror_mode": {
    "name": "ipython",
    "version": 3
   },
   "file_extension": ".py",
   "mimetype": "text/x-python",
   "name": "python",
   "nbconvert_exporter": "python",
   "pygments_lexer": "ipython3",
   "version": "3.7.2"
  }
 },
 "nbformat": 4,
 "nbformat_minor": 2
}
