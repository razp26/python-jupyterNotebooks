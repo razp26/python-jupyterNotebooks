{
 "cells": [
  {
   "cell_type": "code",
   "execution_count": 16,
   "metadata": {},
   "outputs": [],
   "source": [
    "import validaciones"
   ]
  },
  {
   "cell_type": "markdown",
   "metadata": {},
   "source": [
    "# Ejercicios Python"
   ]
  },
  {
   "cell_type": "markdown",
   "metadata": {},
   "source": [
    "## Zen of Python\n",
    "\n",
    "Lee una vez mas el Zen of Python antes de iniciar con la tarea"
   ]
  },
  {
   "cell_type": "code",
   "execution_count": 1,
   "metadata": {},
   "outputs": [
    {
     "name": "stdout",
     "output_type": "stream",
     "text": [
      "The Zen of Python, by Tim Peters\n",
      "\n",
      "Beautiful is better than ugly.\n",
      "Explicit is better than implicit.\n",
      "Simple is better than complex.\n",
      "Complex is better than complicated.\n",
      "Flat is better than nested.\n",
      "Sparse is better than dense.\n",
      "Readability counts.\n",
      "Special cases aren't special enough to break the rules.\n",
      "Although practicality beats purity.\n",
      "Errors should never pass silently.\n",
      "Unless explicitly silenced.\n",
      "In the face of ambiguity, refuse the temptation to guess.\n",
      "There should be one-- and preferably only one --obvious way to do it.\n",
      "Although that way may not be obvious at first unless you're Dutch.\n",
      "Now is better than never.\n",
      "Although never is often better than *right* now.\n",
      "If the implementation is hard to explain, it's a bad idea.\n",
      "If the implementation is easy to explain, it may be a good idea.\n",
      "Namespaces are one honking great idea -- let's do more of those!\n"
     ]
    }
   ],
   "source": [
    "import this"
   ]
  },
  {
   "cell_type": "markdown",
   "metadata": {},
   "source": [
    "## 1 - XOR\n",
    "\n",
    "En la siguiente celda crea una funcion para la compuerta logica XOR \n",
    "\n",
    "<img src=\"assets/xor.png\" width=\"400\">\n"
   ]
  },
  {
   "cell_type": "code",
   "execution_count": 18,
   "metadata": {},
   "outputs": [],
   "source": [
    "def xor(a,b):\n",
    "    \"\"\"\n",
    "    Esta funcion recibe dos valores booleanos, ejemplo xor(1, 0) o True y False\n",
    "    y retorna 0 o 1 como resultado de la operacion logica XOR\n",
    "    \"\"\"\n",
    "    # tu codigo aqui\n",
    "    \"\"\"\n",
    "    Definimos la funcion XOR de la siguiente forma\n",
    "    F = xy' + x'y\n",
    "    \"\"\"\n",
    "    return (a* (not b)) + (b* (not a))"
   ]
  },
  {
   "cell_type": "code",
   "execution_count": 19,
   "metadata": {},
   "outputs": [
    {
     "data": {
      "text/plain": [
       "1"
      ]
     },
     "execution_count": 19,
     "metadata": {},
     "output_type": "execute_result"
    }
   ],
   "source": [
    "xor(0 , 1) "
   ]
  },
  {
   "cell_type": "code",
   "execution_count": 20,
   "metadata": {},
   "outputs": [
    {
     "data": {
      "text/plain": [
       "0"
      ]
     },
     "execution_count": 20,
     "metadata": {},
     "output_type": "execute_result"
    }
   ],
   "source": [
    "xor(0 , 0)"
   ]
  },
  {
   "cell_type": "code",
   "execution_count": 21,
   "metadata": {},
   "outputs": [
    {
     "data": {
      "text/plain": [
       "1"
      ]
     },
     "execution_count": 21,
     "metadata": {},
     "output_type": "execute_result"
    }
   ],
   "source": [
    "xor(True , False)"
   ]
  },
  {
   "cell_type": "markdown",
   "metadata": {},
   "source": [
    "### Pruebas  Automaticas\n",
    "\n",
    "Todas las pruebas deben funcionar para obetener los puntos del ejercicio."
   ]
  },
  {
   "cell_type": "code",
   "execution_count": 22,
   "metadata": {},
   "outputs": [
    {
     "name": "stdout",
     "output_type": "stream",
     "text": [
      "Prueba 1\n",
      "Prueba 1 [CORRECTA]\n",
      "Prueba 2\n",
      "Prueba 2 [CORRECTA]\n"
     ]
    }
   ],
   "source": [
    "validaciones.xor_function(xor)"
   ]
  },
  {
   "cell_type": "markdown",
   "metadata": {},
   "source": [
    "## 2 - Sumando N series\n",
    "\n",
    "Tenemos una secuencia cuyo $n^{th}$ es:\n",
    "\\begin{equation*}\n",
    "\\ T_n = n^2 - (n-1)^2\n",
    "\\end{equation*}\n",
    "\n",
    "Hay que evaluar las series:\n",
    "\\begin{equation*}\n",
    "\\ S_n = T_1 + T_2 + ... + T_n\n",
    "\\end{equation*}\n",
    "\n",
    "\n",
    "**Instrucciones**\n",
    "En la siguiente celda en la funcion summingSeries debemos **retornar** en valor de $S_n$, tenemos como entrada n\n",
    "\n",
    "**Ejemplo 1:**\n",
    "\n",
    "Si la entrada es 2\n",
    "\n",
    "Salida:\n",
    "4\n",
    "\n",
    "Explicacion:\n",
    "\n",
    "$T_1 = 1$\n",
    "\n",
    "$T_2 = 3$\n",
    "\n",
    "$S_2 = T_1 + T_2$\n",
    "\n",
    "$S_2 = 4 $\n",
    "\n",
    "\n",
    "\n",
    "**Tip :**\n",
    "Antes te implementar $S_n$ la solución, analicemos algebraicamente el problema para encontrar una solución equivalente optima.\n"
   ]
  },
  {
   "cell_type": "code",
   "execution_count": 5,
   "metadata": {},
   "outputs": [],
   "source": [
    "def summatoriaSerie(n):\n",
    "    \"\"\"\n",
    "    La funcion recibe como parametro n y retorna el valor se la serie\n",
    "    \"\"\"\n",
    "    # tu codigo aqui\n",
    "    # Al aplicar factorización a la expresió matemática, concluímos que es equivalente a:\n",
    "    # Tn = 2n - 1\n",
    "    resultado = list(range (1, n+1))\n",
    "    return 2*(sum(resultado)) - n"
   ]
  },
  {
   "cell_type": "markdown",
   "metadata": {},
   "source": [
    "#### 2.1 - Ciclos\n",
    "\n",
    "Crea un ciclo for que imprima el resultado de la funcion **summingSeries** desde 1 hasta 10"
   ]
  },
  {
   "cell_type": "code",
   "execution_count": 6,
   "metadata": {},
   "outputs": [
    {
     "name": "stdout",
     "output_type": "stream",
     "text": [
      "1\n",
      "4\n",
      "9\n",
      "16\n",
      "25\n",
      "36\n",
      "49\n",
      "64\n",
      "81\n",
      "100\n"
     ]
    }
   ],
   "source": [
    "for i in range(1,11):\n",
    "    print(summatoriaSerie(i))"
   ]
  },
  {
   "cell_type": "markdown",
   "metadata": {},
   "source": [
    "### Pruebas  Automaticas\n",
    "\n",
    "Todas las pruebas deben funcionar para obetener los puntos del ejercicio.\n",
    "\n",
    "##### Importante :\n",
    "En este ejercicio se evalua que la funcion sea optima, el tiempo de ejecucion tiene que ser el menor posible, se va a evaluar el resultado correcto y el tiempo de ejecucion, si en alguna de las pruebas obtienes **[FALLO: TIMEOUT]** la funcion no es optima debes cambiarla hasta que todas las pruebas pasen"
   ]
  },
  {
   "cell_type": "code",
   "execution_count": 7,
   "metadata": {},
   "outputs": [
    {
     "name": "stdout",
     "output_type": "stream",
     "text": [
      "Prueba 1\n",
      "Prueba 1[FALLO: TIMEOUT]\n",
      "Prueba 1[FALLO: Salida incorecta]\n",
      "Prueba 2\n",
      "Prueba 2[FALLO: TIMEOUT]\n",
      "Prueba 2[FALLO: Salida incorecta]\n",
      "Prueba 3\n",
      "Prueba 3[FALLO: TIMEOUT]\n",
      "Prueba 3[FALLO: Salida incorecta]\n",
      "Prueba 4\n",
      "Prueba 4[FALLO: TIMEOUT]\n",
      "Prueba 4[FALLO: Salida incorecta]\n",
      "Prueba 5\n",
      "Prueba 5[FALLO: TIMEOUT]\n",
      "Prueba 5[FALLO: Salida incorecta]\n",
      "Prueba 6\n",
      "Prueba 6[FALLO: TIMEOUT]\n",
      "Prueba 6[FALLO: Salida incorecta]\n"
     ]
    }
   ],
   "source": [
    "validaciones.summingSeries_function(summatoriaSerie)"
   ]
  },
  {
   "cell_type": "markdown",
   "metadata": {},
   "source": [
    "## 3 - Factores Primos\n",
    "\n",
    "Para cada $n$ queremos obtener el conteo maximo de numeros primos unicos en en rango inclusivo $[1, n]$,\n",
    "y retornar el valor del conteo en una nueva linea\n",
    "\n",
    "**Nota:** Recuerda que un numero primo solo es divisible por el mismo y que 1 no es un numero primo\n",
    "\n",
    "##### Ejemplos:\n",
    "\n",
    "###### Ejemplo 1\n",
    "Entrada: 1\n",
    "\n",
    "Salida esperada: 1\n",
    "\n",
    "Explicacion: El numero maximo de factores primos unicos en el rango inclusivo $[1,1]$ es $0$, porque $1$ no es un numero primo.\n",
    "\n",
    "###### Ejemplo 2\n",
    "Entrada: 3\n",
    "\n",
    "Salida esperada: 1\n",
    "\n",
    "Explicacion: El numero maximo de factores primos unicos en el rango inclusivo $[1,3]$ es $1$, porque el numero $3$ tiene 1 factor primo unico (el mismo) \n",
    "\n",
    "###### Ejemplo 3\n",
    "Entrada: 500\n",
    "\n",
    "Salida esperada: 4\n",
    "\n",
    "Explicacion: El numero maximo de factores primos unicos en el rango inclusivo $[1,500]$ es $4$, porque el producto de los primeros cuatro numeros primos unicos es $2 \\times 3 \\times 5 \\times 7 = 210$ y no hay ningun numero primo unico que multiplicado por el resultado sea $\t\\leqslant 500$\n",
    "\n",
    "\n",
    "\n",
    "#### Tip: \n",
    "Utiliza la funcion `range()` de python\n"
   ]
  },
  {
   "cell_type": "code",
   "execution_count": 10,
   "metadata": {},
   "outputs": [],
   "source": []
  },
  {
   "cell_type": "code",
   "execution_count": 8,
   "metadata": {},
   "outputs": [],
   "source": [
    "def conteoPrimos(n):\n",
    "    \"\"\"\n",
    "    Esta funcion recibe como parametro n y \n",
    "    retorna el conteo maximo de numeros primos unicos\n",
    "    \"\"\"\n",
    "    if n < 6:\n",
    "        return 1;\n",
    "    \n",
    "    if n==6:\n",
    "        return 2;\n",
    "    \n",
    "    numerosPrimos = [2,3]\n",
    "    acumulado = 6\n",
    "    \n",
    "    for num in range(5,n + 1):\n",
    "        esPrimo = True\n",
    "        for i in range(2,num):\n",
    "            if (num % i) == 0:\n",
    "                esPrimo = False\n",
    "                break\n",
    "        if esPrimo:\n",
    "            acumulado*=num\n",
    "            if acumulado<=n:\n",
    "                numerosPrimos.append(num)\n",
    "            else:\n",
    "                break\n",
    "                \n",
    "    return len(numerosPrimos)"
   ]
  },
  {
   "cell_type": "markdown",
   "metadata": {},
   "source": [
    "### Pruebas"
   ]
  },
  {
   "cell_type": "code",
   "execution_count": 9,
   "metadata": {},
   "outputs": [
    {
     "data": {
      "text/plain": [
       "1"
      ]
     },
     "execution_count": 9,
     "metadata": {},
     "output_type": "execute_result"
    }
   ],
   "source": [
    "conteoPrimos(1)"
   ]
  },
  {
   "cell_type": "code",
   "execution_count": 10,
   "metadata": {},
   "outputs": [
    {
     "data": {
      "text/plain": [
       "4"
      ]
     },
     "execution_count": 10,
     "metadata": {},
     "output_type": "execute_result"
    }
   ],
   "source": [
    "conteoPrimos(500)"
   ]
  },
  {
   "cell_type": "markdown",
   "metadata": {},
   "source": [
    "### Pruebas  Automaticas\n",
    "\n",
    "Todas las pruebas deben funcionar para obetener los puntos del ejercicio.\n",
    "\n",
    "##### Importante :\n",
    "En este ejercicio se evalua que la funcion sea optima, el tiempo de ejecucion tiene que ser el menor posible, se va a evaluar el resultado correcto y el tiempo de ejecucion, si en alguna de las pruebas obtienes **[FALLO: TIMEOUT]** la funcion no es optima debes cambiarla hasta que todas las pruebas pasen"
   ]
  },
  {
   "cell_type": "code",
   "execution_count": 11,
   "metadata": {},
   "outputs": [
    {
     "name": "stdout",
     "output_type": "stream",
     "text": [
      "Prueba 1\n",
      "Prueba 1[FALLO: TIMEOUT]\n",
      "Prueba 1[FALLO: Salida incorecta]\n",
      "Prueba 2\n",
      "Prueba 2[FALLO: TIMEOUT]\n",
      "Prueba 2[FALLO: Salida incorecta]\n",
      "Prueba 3\n",
      "Prueba 3[FALLO: TIMEOUT]\n",
      "Prueba 3[FALLO: Salida incorecta]\n",
      "Prueba 4\n",
      "Prueba 4[FALLO: TIMEOUT]\n",
      "Prueba 4[FALLO: Salida incorecta]\n",
      "Prueba 5\n",
      "Prueba 5[FALLO: TIMEOUT]\n",
      "Prueba 5[FALLO: Salida incorecta]\n",
      "Prueba 6\n",
      "Prueba 6[FALLO: TIMEOUT]\n",
      "Prueba 6[FALLO: Salida incorecta]\n",
      "Prueba 7\n",
      "Prueba 7[FALLO: TIMEOUT]\n",
      "Prueba 7[FALLO: Salida incorecta]\n",
      "Prueba 8\n",
      "Prueba 8[FALLO: TIMEOUT]\n",
      "Prueba 8[FALLO: Salida incorecta]\n",
      "Prueba 9\n",
      "Prueba 9[FALLO: TIMEOUT]\n",
      "Prueba 9[FALLO: Salida incorecta]\n",
      "Prueba 10\n",
      "Prueba 10[FALLO: TIMEOUT]\n",
      "Prueba 10[FALLO: Salida incorecta]\n",
      "Prueba 11\n",
      "Prueba 11[FALLO: TIMEOUT]\n",
      "Prueba 11[FALLO: Salida incorecta]\n",
      "Prueba 12\n",
      "Prueba 12[FALLO: TIMEOUT]\n",
      "Prueba 12[FALLO: Salida incorecta]\n"
     ]
    }
   ],
   "source": [
    "validaciones.primeCount_function(conteoPrimos)"
   ]
  },
  {
   "cell_type": "markdown",
   "metadata": {},
   "source": [
    "## 4 - Metodo de Euler\n",
    "\n",
    "El metodo de Euler se utiliza para aproximar la solucion particular de una ecuacion diferencial dado un valor inicial. Con esta informacion se sabe que la grafica de esa solucion pasa a traves del punto $(x_0,y_0)$ y tiene una pendiente $F(x_0,y_0)$ en ese punto, esto da un punto de partida para aproximar la solucion.\n",
    "\n",
    "A partir del punto inicial, se sigue en la direccion indicada por la pendiente. Mediante un pequeño paso $h$, se mueve a lo largo de la recta tangente hasta llegar al punto $(x_1,y_1)$ donde:\n",
    "\\begin{equation*}\n",
    "\\ x_1 = x_0 + h       \\\\\n",
    "\\ y_1 = y_0 + hF(x_0,y_0)\\\\\n",
    "\\end{equation*}\n",
    "\n",
    "\n",
    "<img src=\"assets/Euler.png\" width=\"350\">\n",
    "\n",
    "Como se muestra en la figura se considera $(x_1,y_1)$ como un nuevo punto inicial.\n",
    "\n",
    "Los valores de $x$ son:\n",
    "\\begin{equation*}\n",
    "\\ x_1 = x_0 + h       \\\\\n",
    "\\ x_2 = x_1 + h       \\\\\n",
    "\\    .                \\\\\n",
    "\\    .                \\\\\n",
    "\\    .                \\\\\n",
    "\\ x_n = x_{n-1} + h   \\\\\n",
    "\\end{equation*}\n",
    "\n",
    "\n",
    "Los valores de $y$ son:\n",
    "\\begin{equation*}\n",
    "\\ y_1 = y_0 + hF(x_0,y_0)\\\\\n",
    "\\ y_1 = y_1 + hF(x_1,y_1)\\\\\n",
    "\\       . \\\\\n",
    "\\       . \\\\\n",
    "\\       . \\\\\n",
    "\\ y_n = y_{n-1} + hF(x_{n-1},y_{n-1})\\\\\n",
    "\\end{equation*}\n",
    "\n",
    "\n",
    "#### Problema 4\n",
    "El ejecicio consiste en implementar la funcion *euler_metod* esta funcion recibe como parametro el \n",
    "* punto inicial $x_0$\n",
    "* punto inicial $y_0$\n",
    "* Paso $h$ \n",
    "* numero de iteraciones $n$ \n",
    "* La equacion diferencial que queremos aproximar, esta funcion tambien recibe los parametros $x$ y $y$\n",
    "* La funcion de la solucion exacta que tambien tambien recibe los parametros $x$ y $y$\n",
    "\n",
    "La funcion debe retornar el valor de $y_n$ y el error\n",
    "$error=|y - y_n|$ "
   ]
  },
  {
   "cell_type": "code",
   "execution_count": 12,
   "metadata": {},
   "outputs": [],
   "source": [
    "import math "
   ]
  },
  {
   "cell_type": "code",
   "execution_count": 19,
   "metadata": {},
   "outputs": [],
   "source": [
    "def euler_method(x,y,h,n, diff_eq, func):\n",
    "    \"\"\"\n",
    "    Parametros x, y punto inicial, logitud del paso h , n numero de iteraciones,\n",
    "    diff_eq la equacion diferencial y func la funcion de la solucion exacta\n",
    "    Retorna y y el error\n",
    "    \"\"\"\n",
    "    # tu codigo aqui\n",
    "    for i in range(0, n+1):\n",
    "        diff_eq_result = diff_eq(x,y)\n",
    "        func_result = func(x)\n",
    "        error = abs( func_result - y)\n",
    "        \n",
    "        print('x: ' + str(x))\n",
    "        print('y_' + str(i) + ':' + str(y))\n",
    "        print('y: ' + str(func_result))\n",
    "        print('error: ' + str(error))\n",
    "        print('============================')\n",
    "        \n",
    "        x = x + h\n",
    "        y = y + (h * diff_eq_result)\n",
    "    \n",
    "    return y, error    "
   ]
  },
  {
   "cell_type": "markdown",
   "metadata": {},
   "source": [
    "### Ejemplo\n",
    "\n",
    "Queremos aproximar la solucion particular de la ecuacion diferencial\n",
    "\\begin{equation*}\n",
    "\\ \\frac{\\partial y}{\\partial x} = -2y \\\\\n",
    "\\end{equation*}\n",
    "Donde $y(0) = 4$ vamos a unsa un de $h=0.1$\n",
    "\n",
    "Tambien vamos a calcular el error en este caso podemos verificar el error  con la solucion exacta:\n",
    "\\begin{equation*}\n",
    "\\ y = 4e^{-2x} \\\\\n",
    "\\end{equation*}"
   ]
  },
  {
   "cell_type": "code",
   "execution_count": 20,
   "metadata": {},
   "outputs": [],
   "source": [
    "### Implementando las funciones del ejemplo\n",
    "def y_prime(x, y):\n",
    "    return -2*y\n",
    "\n",
    "def y(x):\n",
    "    return 4 * math.exp(-2*x)"
   ]
  },
  {
   "cell_type": "code",
   "execution_count": 21,
   "metadata": {},
   "outputs": [
    {
     "name": "stdout",
     "output_type": "stream",
     "text": [
      "x: 0\n",
      "y_0:4\n",
      "y: 4.0\n",
      "error: 0.0\n",
      "============================\n",
      "x: 0.1\n",
      "y_1:3.2\n",
      "y: 3.2749230123119273\n",
      "error: 0.0749230123119271\n",
      "============================\n",
      "x: 0.2\n",
      "y_2:2.56\n",
      "y: 2.6812801841425573\n",
      "error: 0.12128018414255726\n",
      "============================\n",
      "x: 0.30000000000000004\n",
      "y_3:2.048\n",
      "y: 2.1952465443761056\n",
      "error: 0.14724654437610551\n",
      "============================\n",
      "x: 0.4\n",
      "y_4:1.6384\n",
      "y: 1.7973158564688863\n",
      "error: 0.15891585646888617\n",
      "============================\n",
      "x: 0.5\n",
      "y_5:1.31072\n",
      "y: 1.4715177646857693\n",
      "error: 0.16079776468576923\n",
      "============================\n",
      "x: 0.6\n",
      "y_6:1.0485760000000002\n",
      "y: 1.2047768476488085\n",
      "error: 0.15620084764880837\n",
      "============================\n",
      "x: 0.7\n",
      "y_7:0.8388608000000002\n",
      "y: 0.986387855766426\n",
      "error: 0.14752705576642577\n",
      "============================\n",
      "x: 0.7999999999999999\n",
      "y_8:0.6710886400000001\n",
      "y: 0.8075860719786218\n",
      "error: 0.13649743197862163\n",
      "============================\n",
      "x: 0.8999999999999999\n",
      "y_9:0.5368709120000001\n",
      "y: 0.6611955528863462\n",
      "error: 0.1243246408863461\n",
      "============================\n",
      "x: 0.9999999999999999\n",
      "y_10:0.4294967296000001\n",
      "y: 0.5413411329464509\n",
      "error: 0.1118444033464508\n",
      "============================\n"
     ]
    },
    {
     "data": {
      "text/plain": [
       "(0.3435973836800001, 0.1118444033464508)"
      ]
     },
     "execution_count": 21,
     "metadata": {},
     "output_type": "execute_result"
    }
   ],
   "source": [
    "\"\"\"\n",
    "Llamamos a la funcion de euler\n",
    "euler_method(0,4,0.1,10, y_prime,y)\n",
    "Parametros :\n",
    "x = 0\n",
    "y = 4\n",
    "d = 0.1\n",
    "n = 10\n",
    "diff_eq = y_prime\n",
    "func = y\n",
    "\"\"\"\n",
    "\n",
    "euler_method(0,4,0.1,10, y_prime,y)"
   ]
  },
  {
   "cell_type": "markdown",
   "metadata": {},
   "source": [
    "### Solucion:\n",
    "\n",
    "Utiliza esta tabla como guia para validar que tu funcion este correcta,\n",
    "y reemplaza los valores que faltan con la salida de tu funcion.\n",
    "\n",
    "| x     | 0 | 0.1         | 0.2    | 0.4    | 0.6    | 0.8    | 1            |\n",
    "|-------|---|-------------|--------|--------|--------|--------|--------------|\n",
    "| y     | 4 | 3.2749      | 2.6813 | 1.7973 | 1.2048 | 0.8076 | 0.5413       |\n",
    "| $y_n$ | 4 | 3.2       | 2.56   | 1.6384 | 1.0486 | 0.6711 | 0.4295       |\n",
    "| error | 0 | 0.0749   | 0.1213 | 0.1589 | 0.1562 | 0.1365 | 0.1118 |"
   ]
  },
  {
   "cell_type": "markdown",
   "metadata": {},
   "source": [
    "### 4.1 Probando la implementacion con una aplicación real de data science\n",
    "\n",
    "Podemos utilizar ecuaciones diferenciales  como modelos matemáticos de fenónemos reales, por ejemplo si llegas a trabajar como data scientist para una farmaceutica  puede que interese analizar la desintegración radioactiva de cierta sustancia y como esto cambia en el tiempo\n",
    "#### Desintegracion Radiactiva\n",
    "\n",
    "$A$ es la cantidad de sustancia en el tiempo $t$, la derivada $\\frac{\\partial A}{\\partial t}$ es rapidez a la que se desintegran los nucleos de una sustancia.\n",
    "\n",
    "Queremos aproximar la solucion particular de la ecuacion diferencial\n",
    "\\begin{equation*}\n",
    "\\ \\frac{\\partial A}{\\partial t} =  -0.56A \\\\\n",
    "\\end{equation*}\n",
    "Donde $A(0) = 1$ vamos a un tamaño de $h=0.1$\n",
    "\n",
    "Tambien vamos a calcular el error en este caso podemos verificar el error  con la solucion exacta:\n",
    "\\begin{equation*}\n",
    "\\ A(t) = e^{-0.56t} \\\\\n",
    "\\end{equation*}\n",
    "\n",
    "**Nota** En este caso sencillo, poseemos la solución exacta a la ED por lo cual no se necesita una solución aproximada , pero en aplicaciones y proyectos reales muchas veces la solución exacta no se posee, o es muy difícil de calcular y recurrimos a soluciones aproximadas por computadora , para este ejercicio el saber la solución exacta nos sirve para medir la exactitud de nuestra solución aproximada."
   ]
  },
  {
   "cell_type": "code",
   "execution_count": 22,
   "metadata": {},
   "outputs": [],
   "source": [
    "# Definimos la función de desintegración radioactiva\n",
    "def desintegracionRadioactiva(t, a):\n",
    "    return -0.56*a\n",
    "\n",
    "def a(t):\n",
    "    return math.exp(-0.56*t)"
   ]
  },
  {
   "cell_type": "code",
   "execution_count": 23,
   "metadata": {},
   "outputs": [
    {
     "name": "stdout",
     "output_type": "stream",
     "text": [
      "x: 0\n",
      "y_0:1\n",
      "y: 1.0\n",
      "error: 0.0\n",
      "============================\n",
      "x: 0.1\n",
      "y_1:0.944\n",
      "y: 0.9455391358903963\n",
      "error: 0.001539135890396337\n",
      "============================\n",
      "x: 0.2\n",
      "y_2:0.8911359999999999\n",
      "y: 0.8940442575003572\n",
      "error: 0.002908257500357281\n",
      "============================\n",
      "x: 0.30000000000000004\n",
      "y_3:0.8412323839999999\n",
      "y: 0.8453538346846587\n",
      "error: 0.004121450684658856\n",
      "============================\n",
      "x: 0.4\n",
      "y_4:0.7941233704959999\n",
      "y: 0.7993151343693651\n",
      "error: 0.005191763873365174\n",
      "============================\n",
      "x: 0.5\n",
      "y_5:0.7496524617482239\n",
      "y: 0.7557837414557255\n",
      "error: 0.006131279707501602\n",
      "============================\n",
      "x: 0.6\n",
      "y_6:0.7076719238903233\n",
      "y: 0.7146231058160573\n",
      "error: 0.006951181925733962\n",
      "============================\n",
      "x: 0.7\n",
      "y_7:0.6680422961524652\n",
      "y: 0.675704113960626\n",
      "error: 0.007661817808160776\n",
      "============================\n",
      "x: 0.7999999999999999\n",
      "y_8:0.6306319275679272\n",
      "y: 0.6389046840319162\n",
      "error: 0.008272756463989062\n",
      "============================\n",
      "x: 0.8999999999999999\n",
      "y_9:0.5953165396241232\n",
      "y: 0.6041093828558647\n",
      "error: 0.008792843231741454\n",
      "============================\n",
      "x: 0.9999999999999999\n",
      "y_10:0.5619788134051723\n",
      "y: 0.5712090638488149\n",
      "error: 0.009230250443642563\n",
      "============================\n"
     ]
    },
    {
     "data": {
      "text/plain": [
       "(0.5305079998544826, 0.009230250443642563)"
      ]
     },
     "execution_count": 23,
     "metadata": {},
     "output_type": "execute_result"
    }
   ],
   "source": [
    "\"\"\"\n",
    "Llamamos a la funcion de euler\n",
    "euler_method(0,4,0.1,10, y_prime,y)\n",
    "Parametros :\n",
    "t = 0\n",
    "a = 1\n",
    "h = 0.1\n",
    "n = 10\n",
    "diff_eq = desintegracionRadioactiva\n",
    "func = a\n",
    "\"\"\"\n",
    "\n",
    "euler_method(0,1,0.1,10, desintegracionRadioactiva,a)"
   ]
  },
  {
   "cell_type": "markdown",
   "metadata": {},
   "source": [
    "## 5 - Rotacion de listas hacia la izquierda\n",
    "\n",
    "Una rotacion a la izquierda en una lista mueve cada elemento de la lista una vez hacia la izquierda. Por ejemplo, si hacemos $1$ rotacion en en el arreglo $[1,2,3,4,5]$, el arreglo resultante seria $[2,3,4,5,1]$\n",
    "\n",
    "#### Descipcion de la funcion\n",
    "Dado un arreglo $a$ de $n$ integers y un numero $d$ de rotaciones, realizar $d$ rotaciones hacia la izquierda. La funcion debe retorner el arreglo re-ordenado.\n",
    "\n",
    "**rotIzquierda** tiene los siguientes parametros:\n",
    "\n",
    "* $a$ Un arreglo de numeros entreros.\n",
    "* $d$ numero de rotaciones."
   ]
  },
  {
   "cell_type": "code",
   "execution_count": 24,
   "metadata": {},
   "outputs": [],
   "source": [
    "def rotIzquierda(a, d):\n",
    "    # tu codigo aqui\n",
    "    # En este caso a[d:] representa de la posicion d (incluyendo a d) hasta la ultima posicion del arreglo\n",
    "    # En este caso a[:d] representa de la primera posicion hasta la posicion d (sin incluir d)\n",
    "    return a[d:] + a[:d]"
   ]
  },
  {
   "cell_type": "code",
   "execution_count": 25,
   "metadata": {},
   "outputs": [
    {
     "data": {
      "text/plain": [
       "[5, 1, 2, 3, 4]"
      ]
     },
     "execution_count": 25,
     "metadata": {},
     "output_type": "execute_result"
    }
   ],
   "source": [
    "rotIzquierda([1, 2, 3, 4, 5], 4)\n",
    "# Resultado: [5, 1, 2, 3, 4]"
   ]
  },
  {
   "cell_type": "markdown",
   "metadata": {},
   "source": [
    "### Pruebas  Automaticas\n",
    "\n",
    "Todas las pruebas deben funcionar para obetener los puntos del ejercicio.\n",
    "\n",
    "##### Importante :\n",
    "En este ejercicio se evalua que la funcion sea optima, el tiempo de ejecucion tiene que ser el menor posible, se va a evaluar el resultado correcto y el tiempo de ejecucion, si en alguna de las pruebas obtienes **[FALLO: TIMEOUT]** la funcion no es optima debes cambiarla hasta que todas las pruebas pasen\n",
    "\n",
    "#### TIP:\n",
    "Utiliza **slice** en el array para optimizar la funcion"
   ]
  },
  {
   "cell_type": "code",
   "execution_count": 26,
   "metadata": {},
   "outputs": [
    {
     "name": "stdout",
     "output_type": "stream",
     "text": [
      "Prueba 1\n",
      "Prueba 1[FALLO: TIMEOUT]\n",
      "Prueba 2\n",
      "Prueba 2[FALLO: TIMEOUT]\n",
      "Prueba 3\n",
      "Prueba 3[FALLO: TIMEOUT]\n"
     ]
    }
   ],
   "source": [
    "validaciones.rotIzquierda_function(rotIzquierda)"
   ]
  }
 ],
 "metadata": {
  "kernelspec": {
   "display_name": "Python 3",
   "language": "python",
   "name": "python3"
  },
  "language_info": {
   "codemirror_mode": {
    "name": "ipython",
    "version": 3
   },
   "file_extension": ".py",
   "mimetype": "text/x-python",
   "name": "python",
   "nbconvert_exporter": "python",
   "pygments_lexer": "ipython3",
   "version": "3.7.2"
  }
 },
 "nbformat": 4,
 "nbformat_minor": 2
}
