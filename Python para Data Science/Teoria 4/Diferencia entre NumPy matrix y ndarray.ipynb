{
 "cells": [
  {
   "cell_type": "markdown",
   "metadata": {},
   "source": [
    "# Diferencia entre NumPy matrix y ndarray\n",
    "Por Rodolfo Antonio Zea Posadas"
   ]
  },
  {
   "cell_type": "markdown",
   "metadata": {},
   "source": [
    "Como punto de partida, previo a enfocarnos en las diferencias, definimos cada uno de los conceptos.\n",
    "\n",
    "# NumPy matrix\n",
    "\n",
    "Es una subclase de NumPy ndarray que nació con la naturaleza de realizar operaciones binarias y operaciones de álgebra lineal.\n",
    "\n",
    "<b> Ejemplo de implementación: </b>"
   ]
  },
  {
   "cell_type": "code",
   "execution_count": 1,
   "metadata": {},
   "outputs": [
    {
     "name": "stdout",
     "output_type": "stream",
     "text": [
      "[[1 2]\n",
      " [3 4]]\n"
     ]
    }
   ],
   "source": [
    "import numpy as np\n",
    "\n",
    "a = np.matrix([[1, 2], [3, 4]])\n",
    "print(a)"
   ]
  },
  {
   "cell_type": "markdown",
   "metadata": {},
   "source": [
    "# Numpy ndarray\n",
    "\n",
    "Es la clase con la que NumPy define arreglos multidimensionales (n dimensiones), y homogéneos (cada elemento es del mismo tipo) que contienen elementos de tamaño fijo.\n",
    "\n",
    "<b> Ejemplo de implementación: </b>"
   ]
  },
  {
   "cell_type": "code",
   "execution_count": 7,
   "metadata": {},
   "outputs": [
    {
     "name": "stdout",
     "output_type": "stream",
     "text": [
      "[[1 3]\n",
      " [2 4]]\n"
     ]
    }
   ],
   "source": [
    "a = np.ndarray(shape=(2,2), dtype=int, order='F')\n",
    "print(a)"
   ]
  },
  {
   "cell_type": "markdown",
   "metadata": {},
   "source": [
    "# Diferencias\n",
    "\n",
    "La principal diferencia radica en el enfoque de cada uno de éstos. Mientras que matrix fue pensado para realizar operaciones binarias y de álgebra lineal, ndarray surgió como un estándar para operar con arreglos de múltiples dimensiones (1,2,3,..n). \n",
    "\n",
    "<b> Multiplicación de elementos de una matriz </b>\n",
    "\n",
    "En el caso de los arreglos, para la multiplicación de los elementos de dos arreglos se hace mediante el operador * . Para el caso de las matrices, ha de usarse la función multiply\n",
    "\n",
    "<b> Ejemplo: </b>"
   ]
  },
  {
   "cell_type": "code",
   "execution_count": 23,
   "metadata": {},
   "outputs": [
    {
     "name": "stdout",
     "output_type": "stream",
     "text": [
      "Operación en matrices\n",
      "[[1 2]\n",
      " [3 4]]\n",
      "[[5 6]\n",
      " [7 8]]\n",
      "np.multiply(a,b)\n",
      "[[ 5 12]\n",
      " [21 32]]\n",
      "\n",
      "\n",
      "Operación en arreglos:\n",
      "[[1 2]\n",
      " [3 4]]\n",
      "[[5 6]\n",
      " [7 8]]\n",
      "c*d\n",
      "[[ 5 12]\n",
      " [21 32]]\n"
     ]
    }
   ],
   "source": [
    "# Matrices\n",
    "a = np.matrix([[1, 2], [3, 4]])\n",
    "b = np.matrix([[5, 6], [7, 8]])\n",
    "print('Operación en matrices')\n",
    "print(a)\n",
    "print(b)\n",
    "print('np.multiply(a,b)')\n",
    "print(np.multiply(a,b))\n",
    "print('\\n')\n",
    "\n",
    "# Arreglos\n",
    "c = np.ndarray(shape=(2,2), dtype=int, order='F')\n",
    "c[0][0] = 1\n",
    "c[0][1] = 2\n",
    "c[1][0] = 3\n",
    "c[1][1] = 4\n",
    "\n",
    "d = np.ndarray(shape=(2,2), dtype=int, order='F')\n",
    "d[0][0] = 5\n",
    "d[0][1] = 6\n",
    "d[1][0] = 7\n",
    "d[1][1] = 8\n",
    "\n",
    "print('Operación en arreglos:')\n",
    "print(a)\n",
    "print(b)\n",
    "print('c * d')\n",
    "print(c * d)"
   ]
  },
  {
   "cell_type": "markdown",
   "metadata": {},
   "source": [
    "<b> Multiplicación de matrices </b>\n",
    "\n",
    "En el caso de los arreglos, la multiplicación de matrices se hace mediante el operador * , mientras que para matrices se utiliza el operador @ .\n",
    "\n",
    "<b> Ejemplo: </b>"
   ]
  },
  {
   "cell_type": "code",
   "execution_count": 28,
   "metadata": {},
   "outputs": [
    {
     "name": "stdout",
     "output_type": "stream",
     "text": [
      "Operación en matrices\n",
      "np.dot(a,b)\n",
      "[[19 22]\n",
      " [43 50]]\n",
      "\n",
      "\n",
      "Operación en arreglos:\n",
      "c @ d\n",
      "[[19 22]\n",
      " [43 50]]\n"
     ]
    }
   ],
   "source": [
    "print('Operación en matrices')\n",
    "print('np.dot(a,b)')\n",
    "print(np.dot(a,b))\n",
    "print('\\n')\n",
    "\n",
    "# Arreglos\n",
    "print('Operación en arreglos:')\n",
    "print('c @ d')\n",
    "print(c @ d)"
   ]
  },
  {
   "cell_type": "markdown",
   "metadata": {},
   "source": [
    "<b> Manejo de dimensiones </b>\n",
    "\n",
    "Los arreglos pueden tener cualquier número entero positivo de dimensiones, sin embargo, las matrices siempre manejan dos dimensiones.\n",
    "\n",
    "Esto puede verificarse cuando se trata de arreglos de una dimensión para cuando se utilizan matrices. En este caso, el arreglo se convierte en una matriz de 1XN o NX1 de dos dimensiones (1 y N).\n",
    "\n",
    "<b> Constructor </b>\n",
    "\n",
    "El constructor que se utiliza en la creación de arreglos recibe secuencias de python como inicializadores mientras que el constructor de una matriz utiliza un string como inicializador.\n",
    "\n",
    "<b> Ejemplo: </b>"
   ]
  },
  {
   "cell_type": "code",
   "execution_count": 15,
   "metadata": {},
   "outputs": [
    {
     "name": "stdout",
     "output_type": "stream",
     "text": [
      "[[1.30551444e-311 1.97626258e-323]\n",
      " [6.95316046e-310             nan]]\n",
      "[[1 2]\n",
      " [3 4]]\n"
     ]
    }
   ],
   "source": [
    "arreglo = np.ndarray(shape=(2,2), dtype=float, order='F')\n",
    "print(arreglo)\n",
    "\n",
    "matriz = np.matrix([[1, 2], [3, 4]])\n",
    "print(matriz)"
   ]
  },
  {
   "cell_type": "markdown",
   "metadata": {},
   "source": [
    "# Conslusión\n",
    "\n",
    "A manera de conclusión puede decirse que en lugar de usar matrices, ScyPy recomienda el uso de arreglos (ya que todo tipo de operaciones de matrices puede hacerse con arreglos.\n",
    "\n",
    "# Fuentes\n",
    "\n",
    "https://docs.scipy.org/doc/numpy/reference/generated/numpy.ndarray.html\n",
    "\n",
    "https://docs.scipy.org/doc/numpy/reference/generated/numpy.matrix.html?highlight=numpy%20matrix#numpy.matrix\n",
    "\n",
    "https://www.numpy.org/devdocs/user/numpy-for-matlab-users.html#array-or-matrix-which-should-i-use\n",
    "\n",
    "https://stackoverflow.com/questions/4151128/what-are-the-differences-between-numpy-arrays-and-matrices-which-one-should-i-u"
   ]
  }
 ],
 "metadata": {
  "kernelspec": {
   "display_name": "Python 3",
   "language": "python",
   "name": "python3"
  },
  "language_info": {
   "codemirror_mode": {
    "name": "ipython",
    "version": 3
   },
   "file_extension": ".py",
   "mimetype": "text/x-python",
   "name": "python",
   "nbconvert_exporter": "python",
   "pygments_lexer": "ipython3",
   "version": "3.7.2"
  }
 },
 "nbformat": 4,
 "nbformat_minor": 2
}
