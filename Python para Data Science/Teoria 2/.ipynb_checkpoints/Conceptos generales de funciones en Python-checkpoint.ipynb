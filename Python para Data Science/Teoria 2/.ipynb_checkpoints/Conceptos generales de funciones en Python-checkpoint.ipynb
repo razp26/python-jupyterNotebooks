{
 "cells": [
  {
   "cell_type": "markdown",
   "metadata": {},
   "source": [
    "# Conceptos generales de funciones en Python\n",
    "Por Rodolfo Antonio Zea Posadas"
   ]
  },
  {
   "cell_type": "markdown",
   "metadata": {},
   "source": [
    "# Funciones\n",
    "\n",
    "Una función es un bloque de código, cuyo fin debería de ser el llevar a cabo una tarea específica, que podría ser utilizada en uno o más lugares dentro de un programa.\n",
    "\n",
    "Para definir una función en Python se utiliza la siguiente sintaxis:"
   ]
  },
  {
   "cell_type": "code",
   "execution_count": 12,
   "metadata": {},
   "outputs": [],
   "source": [
    "def nombreFuncion (parametros):\n",
    "    #bloqueDeCódigo\n",
    "    resultado = 1\n",
    "    return resultado"
   ]
  },
  {
   "cell_type": "markdown",
   "metadata": {},
   "source": [
    "En donde\n",
    "\n",
    "**def:** Palabra reservada del lenguaje Python utilizada para definir una función.\n",
    "nombreFunción: Nombre que se desea asignarle a la función. Es importante hacer mención que el nombre de una función no debe de contener espacios en blanco.\n",
    "\n",
    "**parametros:** Son variables externas que la función puede recibir para su uso dentro del contexto de la función. No es obligatorio que una función reciba un parámetro. Es importante hacer mención que en Python no se define el tipo de dato de los parámetros a recibir.\n",
    "\n",
    "**bloqueDeCódigo:** Es el conjunto de instrucciones en Python para llevar a cabo la tarea para la cual fue creada la función. Es importante recalcar que este debe estar con una sangría a la izquierda de la línea que define a la función. Todo el código que este en el mismo nivel de sangría a la izquierda o más, pertenece a un mismo bloque.\n",
    "\n",
    "**return:** Palabra reservada de Python que utiliza para denotar el retorno del resultado de la función hacia el lugar desde donde fue invocada la misma. Esta se utiliza únicamente si la función retorna algún valor, y al ejecutarse, automáticamente finaliza la ejecución de la función. En caso de que la función no retorne ningún valor, esta puede obviarse.\n",
    "\n",
    "**resultado:** Es el valor, o valores que la función retorna a quién la invocó.\n",
    "\n",
    "Para invocar una función se utiliza la siguiente sintáxis:"
   ]
  },
  {
   "cell_type": "code",
   "execution_count": 13,
   "metadata": {},
   "outputs": [
    {
     "data": {
      "text/plain": [
       "1"
      ]
     },
     "execution_count": 13,
     "metadata": {},
     "output_type": "execute_result"
    }
   ],
   "source": [
    "parametros = \"Parámetro de ejemplo\"\n",
    "nombreFuncion(parametros)"
   ]
  },
  {
   "cell_type": "markdown",
   "metadata": {},
   "source": [
    "En donde\n",
    "\n",
    "**resultadoFuncion:** Objeto que recibe el o los valores retornados por la función. No es obligatorio que exista, ya que puede haber casos en los que la función no retorne ningún valor o que no se desee asignar a ningún objeto el resultado de la función.\n",
    "\n",
    "**nombreFuncion:** Nombre de la función a invocar.\n",
    "\n",
    "**parametros:** Valores de entrada que requiere la función para su ejecución. En caso de que la función no requiera alguno, éstos se omiten."
   ]
  },
  {
   "cell_type": "markdown",
   "metadata": {},
   "source": [
    "# Parámetros posicionales\n",
    "Un argumento posicional es un parámetro que recibe una función y que no se coloca como “nombre=valor” en la definición de la función o al invocarla.\n",
    "\n",
    "Ejemplo:"
   ]
  },
  {
   "cell_type": "code",
   "execution_count": 14,
   "metadata": {},
   "outputs": [],
   "source": [
    "def nombreFuncion (parametroPosicional1, parametroPosicional2, parametroPosicionalN):\n",
    "    return 1"
   ]
  },
  {
   "cell_type": "markdown",
   "metadata": {},
   "source": [
    "Para invocar una función con parámetros posicionales, únicamente se coloca el nombre de la función y dentro de paréntesis los valores a asignar a cada uno de los parámetros de la función.\n",
    "\n",
    "Ejemplo:"
   ]
  },
  {
   "cell_type": "code",
   "execution_count": 15,
   "metadata": {},
   "outputs": [
    {
     "data": {
      "text/plain": [
       "1"
      ]
     },
     "execution_count": 15,
     "metadata": {},
     "output_type": "execute_result"
    }
   ],
   "source": [
    "parametroPosicional1 = 1\n",
    "parametroPosicional2 = 2\n",
    "parametroPosicionalN = 3\n",
    "nombreFuncion(parameteroPosicional1, parametroPosicional2, parametroPosicionalN)"
   ]
  },
  {
   "cell_type": "markdown",
   "metadata": {},
   "source": [
    "Es importante hacer mención que también es posible enviar los parámetros posicionales como elementos de un iterable. Para esto se debe anteponer el carácter ‘*’.\n",
    "\n",
    "Ejemplo:"
   ]
  },
  {
   "cell_type": "code",
   "execution_count": 16,
   "metadata": {},
   "outputs": [
    {
     "data": {
      "text/plain": [
       "1"
      ]
     },
     "execution_count": 16,
     "metadata": {},
     "output_type": "execute_result"
    }
   ],
   "source": [
    "nombreFuncion(*(parametroPosicional1, parametroPosicional2,parametroPosicionalN))"
   ]
  },
  {
   "cell_type": "markdown",
   "metadata": {},
   "source": [
    "Es importante recalcar que los parámetros posicionales, como su nombre lo indican, deben ser enviados en el orden en  el que fueron definidos en la función.\n",
    "\n",
    "Ejemplo:"
   ]
  },
  {
   "cell_type": "code",
   "execution_count": 17,
   "metadata": {},
   "outputs": [],
   "source": [
    "def funcion (a, b, c):\n",
    "    print('a: ' + str(a))\n",
    "    print('b: ' + str(b))\n",
    "    print('c: ' + str(c))"
   ]
  },
  {
   "cell_type": "markdown",
   "metadata": {},
   "source": [
    "Al invocarlo"
   ]
  },
  {
   "cell_type": "code",
   "execution_count": 18,
   "metadata": {},
   "outputs": [
    {
     "name": "stdout",
     "output_type": "stream",
     "text": [
      "a: 1\n",
      "b: 2\n",
      "c: 3\n"
     ]
    }
   ],
   "source": [
    "funcion(1, 2, 3)"
   ]
  },
  {
   "cell_type": "markdown",
   "metadata": {},
   "source": [
    "# Parámetros nombrados\n",
    "En inglés, conocidos como keyword arguments, son parámetros que se asocian al nombre con el que se definieron a la hora de invocar la función. Esto es de gran utilidad ya que hace que los parámetros sean más explícidos. A diferencia de los parámetros posicionales, éstos sí se colocan como “nombre=valor” en la definición de la función o al invocarla. Esto implica que no importa el orden en el que se colocan cuando se invoca a la función.\n",
    "\n",
    "Ejemplo:"
   ]
  },
  {
   "cell_type": "code",
   "execution_count": 19,
   "metadata": {},
   "outputs": [],
   "source": [
    "def funcion(a, b, c):\n",
    "    print('a: ' + str(a))\n",
    "    print('b: ' + str(b))\n",
    "    print('c: ' + str(c))"
   ]
  },
  {
   "cell_type": "markdown",
   "metadata": {},
   "source": [
    "Invocamos a la función"
   ]
  },
  {
   "cell_type": "code",
   "execution_count": 20,
   "metadata": {},
   "outputs": [
    {
     "name": "stdout",
     "output_type": "stream",
     "text": [
      "a: 1\n",
      "b: 2\n",
      "c: 3\n"
     ]
    }
   ],
   "source": [
    "funcion(a=1, b=2,c=3)"
   ]
  },
  {
   "cell_type": "markdown",
   "metadata": {},
   "source": [
    "En este caso, como los parámetros son nombrados, pueden ser enviados en distinto orden."
   ]
  },
  {
   "cell_type": "code",
   "execution_count": 21,
   "metadata": {},
   "outputs": [
    {
     "name": "stdout",
     "output_type": "stream",
     "text": [
      "a: 1\n",
      "b: 2\n",
      "c: 3\n"
     ]
    }
   ],
   "source": [
    "funcion(c=3, a=1, b=2)"
   ]
  },
  {
   "cell_type": "markdown",
   "metadata": {},
   "source": [
    "El resultado de la función es el mismo en ambos casos."
   ]
  },
  {
   "cell_type": "markdown",
   "metadata": {},
   "source": [
    "# Funciones que retornan múltiples valores\n",
    "En Python es posible que una función retorne más de un valor como resultado de su ejecución. Esto puede lograrse de distintas formas:\n",
    "\n",
    "**Retornando una tupla:**"
   ]
  },
  {
   "cell_type": "code",
   "execution_count": 23,
   "metadata": {},
   "outputs": [],
   "source": [
    "def retornaTupla():\n",
    "    return ('a', 5, 4, 'b')"
   ]
  },
  {
   "cell_type": "markdown",
   "metadata": {},
   "source": [
    "En este caso, para acceder a alguno de los ítems de la tupla se hace accediendo al índice del elemento en la tupla.\n",
    "\n",
    "Ejemplo:"
   ]
  },
  {
   "cell_type": "code",
   "execution_count": 24,
   "metadata": {},
   "outputs": [
    {
     "name": "stdout",
     "output_type": "stream",
     "text": [
      "5\n"
     ]
    }
   ],
   "source": [
    "resultado = retornaTupla()\n",
    "print(resultado[1])"
   ]
  },
  {
   "cell_type": "markdown",
   "metadata": {},
   "source": [
    "**Retornando un diccionario:**"
   ]
  },
  {
   "cell_type": "code",
   "execution_count": 26,
   "metadata": {},
   "outputs": [],
   "source": [
    "def retornaDiccionario():\n",
    "    return {'s1':'a', 's2':5, 's3': 4, 's4': 'b'}"
   ]
  },
  {
   "cell_type": "markdown",
   "metadata": {},
   "source": [
    "En este caso, para acceder a alguno de los ítems del diccionario, se hace a través del nombre del mismo.\n",
    "\n",
    "Ejemplo:"
   ]
  },
  {
   "cell_type": "code",
   "execution_count": 27,
   "metadata": {},
   "outputs": [
    {
     "name": "stdout",
     "output_type": "stream",
     "text": [
      "b\n"
     ]
    }
   ],
   "source": [
    "resultado = retornaDiccionario()\n",
    "print(resultado['s4'])"
   ]
  },
  {
   "cell_type": "markdown",
   "metadata": {},
   "source": [
    "**Retornando una instancia de una clase:**\n",
    "Ya que una clase puede tener múltiples atributos, cada atributo puede ser de un tipo de dato distinto. Por consiguiente, si se retorna una instancia de una clase, automáticamente se retorna un valor por cada atributo que tenga la clase.\n",
    "\n",
    "Ejemplo:"
   ]
  },
  {
   "cell_type": "code",
   "execution_count": 28,
   "metadata": {},
   "outputs": [],
   "source": [
    "class objetoARetornar(object):\n",
    "    def __init__(instancia, p0, p1, p2):\n",
    "        instancia.a0 = p0\n",
    "        instancia.a1 = p1\n",
    "        instancia.a2 = p2\n",
    "\n",
    "def retornaClase():\n",
    "    return objetoARetornar (1, 2, 3)"
   ]
  },
  {
   "cell_type": "markdown",
   "metadata": {},
   "source": [
    "En este caso, para acceder a un atributo de la instancia de la clase se hace de la siguiente manera:"
   ]
  },
  {
   "cell_type": "code",
   "execution_count": 29,
   "metadata": {},
   "outputs": [
    {
     "name": "stdout",
     "output_type": "stream",
     "text": [
      "3\n"
     ]
    }
   ],
   "source": [
    "resultado  = retornaClase()\n",
    "print(resultado.a2)"
   ]
  },
  {
   "cell_type": "markdown",
   "metadata": {},
   "source": [
    "**Retornando una lista:**"
   ]
  },
  {
   "cell_type": "code",
   "execution_count": 33,
   "metadata": {},
   "outputs": [],
   "source": [
    "def retornaLista():\n",
    "    lista = [0]\n",
    "    lista.append(1)\n",
    "    lista.append(2)\n",
    "    lista.append(3)\n",
    "    return lista"
   ]
  },
  {
   "cell_type": "markdown",
   "metadata": {},
   "source": [
    "En este caso, para acceder a uno de los valores retornados por la función, se debe acceder tal y cómo se accedería a un elemento de la lista.\n",
    "\n",
    "Ejemplo:"
   ]
  },
  {
   "cell_type": "code",
   "execution_count": 34,
   "metadata": {},
   "outputs": [
    {
     "name": "stdout",
     "output_type": "stream",
     "text": [
      "2\n"
     ]
    }
   ],
   "source": [
    "resultado = retornaLista()\n",
    "print(resultado[2])"
   ]
  },
  {
   "cell_type": "markdown",
   "metadata": {},
   "source": [
    "# Funciones como objetos y como parámetros de otras funciones\n",
    "En Python, las funciones son objetos, esto quiere decir que tienen un tipo, pueden ser enviados como parámetros a otras funciones, pueden ser utilizados en una expresión y pueden estar incluidos dentro de diversas estructuras de datos, como lo son las listas y los diccionarios.\n",
    "\n",
    "En la presente sección se describe la forma en que una función puede ser enviada como un parámetro a otra función. Para ello, presentaremos el siguiente escenario a manera de ejemplo."
   ]
  },
  {
   "cell_type": "code",
   "execution_count": 7,
   "metadata": {},
   "outputs": [],
   "source": [
    "def suma(a,b):\n",
    "    return a + b\n",
    "\n",
    "def resta(a,b):\n",
    "    return a - b\n",
    "\n",
    "def multiplicacion(a,b):\n",
    "    return a * b"
   ]
  },
  {
   "cell_type": "markdown",
   "metadata": {},
   "source": [
    "Ahora definiremos una función llamada calculadora, la cual dentro de sus parámeetros recibirá la función de la operación a ejecutar."
   ]
  },
  {
   "cell_type": "code",
   "execution_count": 8,
   "metadata": {},
   "outputs": [],
   "source": [
    "def calculadora(a,b,operacion):\n",
    "    return operacion(a,b)"
   ]
  },
  {
   "cell_type": "markdown",
   "metadata": {},
   "source": [
    "Ahora vamos a invocar a la función calculadora enviandole como parámetro la función de la operación a ejecutar."
   ]
  },
  {
   "cell_type": "code",
   "execution_count": 9,
   "metadata": {},
   "outputs": [
    {
     "name": "stdout",
     "output_type": "stream",
     "text": [
      "17\n",
      "3\n",
      "70\n"
     ]
    }
   ],
   "source": [
    "print(calculadora(10,7,suma))\n",
    "print(calculadora(10,7,resta))\n",
    "print(calculadora(10,7,multiplicacion))"
   ]
  },
  {
   "cell_type": "markdown",
   "metadata": {},
   "source": [
    "En el caso que la función no requiera parámetros, el procedimiento es el siguiente:"
   ]
  },
  {
   "cell_type": "code",
   "execution_count": 14,
   "metadata": {},
   "outputs": [
    {
     "name": "stdout",
     "output_type": "stream",
     "text": [
      "Esta es una función sin parámetros\n",
      "Cadena de ejemplo\n"
     ]
    }
   ],
   "source": [
    "def funcionSinParametros():\n",
    "    print('Esta es una función sin parámetros')\n",
    "\n",
    "def invocarFuncionSinParametros(texto, funcion):\n",
    "    funcion()\n",
    "    print(texto)\n",
    "\n",
    "cadena = 'Cadena de ejemplo'\n",
    "invocarFuncionSinParametros(cadena, funcionSinParametros)"
   ]
  },
  {
   "cell_type": "markdown",
   "metadata": {},
   "source": [
    "Si la función requiriera un parámetro extra, el procedimiento es el siguiente:"
   ]
  },
  {
   "cell_type": "code",
   "execution_count": 15,
   "metadata": {},
   "outputs": [],
   "source": [
    "def velocidadFinal(velocidadInicial,tiempoSegundos, gravedad):\n",
    "    return velocidadInicial + (gravedad * tiempoSegundos)\n",
    "\n",
    "def operacionCaidaLibre(velocidadInicial, tiempoSegundos, operacion):\n",
    "    gravedad = 9.81\n",
    "    return operacion(velocidadInicial, tiempoSegundos, gravedad)"
   ]
  },
  {
   "cell_type": "markdown",
   "metadata": {},
   "source": [
    "Invocamos a la función"
   ]
  },
  {
   "cell_type": "code",
   "execution_count": 16,
   "metadata": {},
   "outputs": [
    {
     "data": {
      "text/plain": [
       "123.10000000000001"
      ]
     },
     "execution_count": 16,
     "metadata": {},
     "output_type": "execute_result"
    }
   ],
   "source": [
    "operacionCaidaLibre(25,10,velocidadFinal)"
   ]
  },
  {
   "cell_type": "markdown",
   "metadata": {},
   "source": [
    "# Funciones anónimas o lambda\n",
    "En Python una función anónima es una función que se define sin un nombre. Para ello, en lugar de definir una función con la palabra reservada de 'ref', se utilizará la palabra reservada 'lambda'.\n",
    "\n",
    "Para definir una función anónima se utiliza la siguiente sintaxis:"
   ]
  },
  {
   "cell_type": "code",
   "execution_count": null,
   "metadata": {},
   "outputs": [],
   "source": [
    "#lambda parametros: expresion"
   ]
  },
  {
   "cell_type": "markdown",
   "metadata": {},
   "source": [
    "En donde\n",
    "\n",
    "**lambda:** Palabra reservada de Python para indicar que se está definiendo una función anónima.\n",
    "\n",
    "**parametros:** Valores de entrada o parámemtros que recibe la función. Estos pueden ser parámetros de cualquier tipo y pueden ser uno, más de uno o ninguno.\n",
    "\n",
    "**expresion:** A diferencia de una función definida con la palabra reservada 'def', las funciones anónimas solo pueden ejecutar una expresión, que es el valor que retornarán.\n",
    "\n",
    "A continuación se muestran algunos ejemplos de funciones anónimas en Python:\n",
    "\n",
    "**Función con un parámetro: **"
   ]
  },
  {
   "cell_type": "code",
   "execution_count": 22,
   "metadata": {},
   "outputs": [
    {
     "name": "stdout",
     "output_type": "stream",
     "text": [
      "0.15\n"
     ]
    }
   ],
   "source": [
    "porcentaje = 15\n",
    "resultado = lambda porcentaje: porcentaje/100\n",
    "print(resultado(porcentaje))"
   ]
  },
  {
   "cell_type": "markdown",
   "metadata": {},
   "source": [
    "En el ejemplo anterior es posible observar que para invocar la función se utiliza el objeto (en este caso es 'resultado') como que fuera la función y a este se le colocan los parámetros que requiere la función anónima.\n",
    "\n",
    "**Función con múltiples parámetros:**"
   ]
  },
  {
   "cell_type": "code",
   "execution_count": 23,
   "metadata": {},
   "outputs": [
    {
     "name": "stdout",
     "output_type": "stream",
     "text": [
      "0.12\n"
     ]
    }
   ],
   "source": [
    "cantidad = 15\n",
    "total = 125\n",
    "proporcion = lambda cantidad, total: cantidad/total\n",
    "print(proporcion(cantidad, total))"
   ]
  },
  {
   "cell_type": "markdown",
   "metadata": {},
   "source": [
    "En este caso, los parámetros que se envían se separan con una ','. Nuevamente se utiliza el objeto (en este caso es 'proporcion') como que fuera la función y a este se le colocan los parámetros que requiere la función anónima.\n",
    "\n",
    "**Función sin parámetros:**"
   ]
  },
  {
   "cell_type": "code",
   "execution_count": 25,
   "metadata": {},
   "outputs": [
    {
     "name": "stdout",
     "output_type": "stream",
     "text": [
      "HOLA MUNDO\n"
     ]
    }
   ],
   "source": [
    "ejemplo = lambda: 'HOLA ' + 'MUNDO'\n",
    "print(ejemplo())"
   ]
  },
  {
   "cell_type": "markdown",
   "metadata": {},
   "source": [
    "Este último fue un ejemplo muy sencillo, pero que bajo algún escenario podría ocurrir, en el que la función anónima no requiere parámetro alguno."
   ]
  },
  {
   "cell_type": "markdown",
   "metadata": {},
   "source": [
    "# Fuentes\n",
    "https://www.learnpython.org/en/Functions\n",
    "\n",
    "https://docs.python.org/3/glossary.html#term-argument\n",
    "\n",
    "https://www.quora.com/What-is-a-positional-argument-in-Python-programming\n",
    "\n",
    "https://treyhunner.com/2018/04/keyword-arguments-in-python/\n",
    "\n",
    "https://stackoverflow.com/questions/354883/how-to-return-multiple-values-from-a-function\n",
    "\n",
    "https://medium.com/python-pandemonium/function-as-objects-in-python-d5215e6d1b0d\n",
    "\n",
    "https://www.programiz.com/python-programming/anonymous-function"
   ]
  }
 ],
 "metadata": {
  "kernelspec": {
   "display_name": "Python 3",
   "language": "python",
   "name": "python3"
  },
  "language_info": {
   "codemirror_mode": {
    "name": "ipython",
    "version": 3
   },
   "file_extension": ".py",
   "mimetype": "text/x-python",
   "name": "python",
   "nbconvert_exporter": "python",
   "pygments_lexer": "ipython3",
   "version": "3.7.2"
  }
 },
 "nbformat": 4,
 "nbformat_minor": 2
}
