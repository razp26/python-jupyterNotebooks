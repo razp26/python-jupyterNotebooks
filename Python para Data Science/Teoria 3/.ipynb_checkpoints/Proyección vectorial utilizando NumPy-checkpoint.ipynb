{
 "cells": [
  {
   "cell_type": "markdown",
   "metadata": {},
   "source": [
    "# Proyección vectorial\n",
    "\n",
    "\n",
    "\n",
    "Tal y como lo indica su nombre, la proyección de un vector sobre otro vector puede entenderse como la sombra que un vector produciría sobre el otro vector."
   ]
  },
  {
   "cell_type": "code",
   "execution_count": 2,
   "metadata": {},
   "outputs": [],
   "source": [
    "# Importamos la libreria de NumPy\n",
    "import numpy as np"
   ]
  },
  {
   "cell_type": "code",
   "execution_count": 4,
   "metadata": {},
   "outputs": [
    {
     "data": {
      "text/plain": [
       "array([2.4, 0.8])"
      ]
     },
     "execution_count": 4,
     "metadata": {},
     "output_type": "execute_result"
    }
   ],
   "source": [
    "# Funcion para proyeccion vectorial del vector v2 sobre el vector v1\n",
    "def proyeccion_vectorial(v1, v2):\n",
    "    return (np.dot(v1,v2)/np.dot(v1,v1)) * v1\n",
    "\n",
    "# Ejemplo de ejecucion\n",
    "v1 = np.array([3,1])\n",
    "v2 = np.array([1,5])\n",
    "proyeccion_vectorial(v1,v2)"
   ]
  },
  {
   "cell_type": "markdown",
   "metadata": {},
   "source": [
    "# Fuentes\n",
    "\n",
    "https://www.unicoos.com/video/matematicas/1-bachiller/geometria-analitica/vectores/proyeccion-vectorial-y-escalar-de-un-vector-sobre-otro\n",
    "\n",
    "https://www.academia.edu/33317063/02_vectores_en_el_espacio.pdf\n",
    "\n",
    "https://lasmatematicas.eu/2017/09/22/proyecciones-producto-escalar-de-vectores-aplicaciones/\n",
    "\n",
    "https://youtu.be/d4_6-kF1HdY\n",
    "\n",
    "https://youtu.be/UB_UIpcWC0M\n",
    "\n",
    "https://youtu.be/99ToTe0fGUs\n",
    "\n",
    "https://youtu.be/euXp9CnNSJg\n",
    "\n",
    "\n",
    "\n"
   ]
  }
 ],
 "metadata": {
  "kernelspec": {
   "display_name": "Python 3",
   "language": "python",
   "name": "python3"
  },
  "language_info": {
   "codemirror_mode": {
    "name": "ipython",
    "version": 3
   },
   "file_extension": ".py",
   "mimetype": "text/x-python",
   "name": "python",
   "nbconvert_exporter": "python",
   "pygments_lexer": "ipython3",
   "version": "3.7.2"
  }
 },
 "nbformat": 4,
 "nbformat_minor": 2
}
