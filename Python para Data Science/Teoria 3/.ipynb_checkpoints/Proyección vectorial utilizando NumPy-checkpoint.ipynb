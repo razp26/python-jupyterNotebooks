{
 "cells": [
  {
   "cell_type": "markdown",
   "metadata": {},
   "source": [
    "# Proyección vectorial\n",
    "Por Rodolfo Antonio Zea Posadas\n",
    "\n",
    "Supongamos que tenemos dos vectores, el  vector u y el vector v (ver imagen 1) y deseamos conocer el vector resultante de proyectar el vector u sobre v.\n",
    "\n",
    "![imagen 1](Images/imagen1.png)\n",
    "<center>imagen 1 - Fuente: https://slideplayer.com/slide/4465770/</center>\n",
    "\n",
    "\n",
    "Para ello se debe de trazar una línea perpendicular al vector v (90 grados entre la línea y el vector) de la punta del vector u hacia el vector v (ver imagen 2).\n",
    "\n",
    "![imagen 2](Images/imagen2.png)\n",
    "<center>imagen 2 - Fuente: https://slideplayer.com/slide/4465770/</center>\n",
    "\n",
    "El vector resultante, cuya longitud es el punto en donde se intersectan el vector v y la línea perpendicular que parte del vector u, y cuya dirección es la del vector v; es la proyección del vector u sobre v.\n",
    "\n",
    "![imagen 3](Images/imagen3.png)\n",
    "<center>imagen 3 - Fuente: https://slideplayer.com/slide/4465770/</center>\n",
    "\n",
    "En este caso, el vector representado gráficamente de color verde, es la proyección del vector u sobre el vector v. \n",
    "\n",
    "<b>NOTA: </b>Las imágenes 1 y 2 han sido editadas a partir de la imagen 3. La imagen 3 fue tomada de la diapositiva 4 de la presentación publicada en la siguiente url https://slideplayer.com/slide/4465770/.\n",
    "\n",
    "La fórmula para calcular la proyección del vector u sobre v es la siguiente:\n",
    "\n",
    "![imagen 1](Images/formula.png)\n",
    "<center>imagen 4</center>\n",
    "\n",
    "A continuación se muestra la implementación de la proyección vectorial en Python utilizando el paquete NumPy.\n",
    "\n",
    "# Implementación de función de proyección vectorial"
   ]
  },
  {
   "cell_type": "code",
   "execution_count": 2,
   "metadata": {},
   "outputs": [],
   "source": [
    "# Importamos la libreria de NumPy\n",
    "import numpy as np"
   ]
  },
  {
   "cell_type": "code",
   "execution_count": 11,
   "metadata": {},
   "outputs": [],
   "source": [
    "# Funcion para proyeccion vectorial del vector v2 sobre el vector v1\n",
    "def proyeccion_vectorial(v1, v2):\n",
    "    return (np.dot(v1,v2)/np.dot(v1,v1)) * v1"
   ]
  },
  {
   "cell_type": "markdown",
   "metadata": {},
   "source": [
    "# Interpretación de la proyección vectorial\n",
    "\n",
    "El vector resultante de la proyección vectorial es el cateto del triángulo rectángulo que se formó entre el vector u, el vector v y la línea perpendicular al vector v que se trazó imaginariamente (ver imagen 5).\n",
    "\n",
    "![imagen 1](Images/imagen5.png)\n",
    "<center>imagen 5</center>\n",
    "\n",
    "Sin utilizar terminología alguna, puede decirse que la proyección del vector u sobre el vector v es la sombra que proyectaría el vector u sobre el piso, que en este caso sería el vector v. Es decir, es la componente del vector u en el vector v. \n",
    "\n",
    "# Ejemplo de uso de la función de proyección vectorial y su interpretación\n",
    "\n",
    "Para el siguiente ejemplo, vamos a considerar los vectores v y u y haremos la proyección vectorial de v sobre u.\n",
    "\n",
    "v = (3,1)\n",
    "u = (1,5)\n"
   ]
  },
  {
   "cell_type": "code",
   "execution_count": 12,
   "metadata": {},
   "outputs": [
    {
     "data": {
      "text/plain": [
       "array([2.4, 0.8])"
      ]
     },
     "execution_count": 12,
     "metadata": {},
     "output_type": "execute_result"
    }
   ],
   "source": [
    "# Ejemplo de ejecucion\n",
    "u = np.array([1,5])\n",
    "v = np.array([3,1])\n",
    "\n",
    "proyeccion_vectorial(v,u)"
   ]
  },
  {
   "cell_type": "markdown",
   "metadata": {},
   "source": [
    "Como puede observarse, el vector resultante de esta proyección viene dado por (2.4,0.8). Al graficarlo podemos ver que representa el cateto entre el triángulo rectángulo resultante entre los dos vectores y la línea perpendicular imaginaria (ver imagen 6).\n",
    "\n",
    "![imagen 6](Images/ejemplo1.png)\n",
    "<center>imagen 6 - Vector resultante de la proyección ubicado en el punto gris (G)</center>"
   ]
  },
  {
   "cell_type": "markdown",
   "metadata": {},
   "source": [
    "# Aplicación de la proyección de vectores\n",
    "\n",
    "Cualquier algoritmo que aplique el proyecto punto indirectamente utiliza el concepto de proyección de vectores ya que el producto punto se define como la proyección de un vector u sobre un vector v, multiplicado por el tamaño del vector v.\n",
    "\n",
    "Un caso práctivo es para clasificar datos. Si cada dato recolectado se representa como un vector, tomamos un punto central de referencia que nos servirá para realizar la proyección escalar contra cada uno de los vectores (que representan los datos recolectados) y dependiendo del resultado de la proyección escalar, así se podrá clasificar cada vector, es decir, el resultado de la proyección escalar nos determinará a que grupo pertenece dicho vector."
   ]
  },
  {
   "cell_type": "markdown",
   "metadata": {},
   "source": [
    "# Fuentes\n",
    "\n",
    "https://www.unicoos.com/video/matematicas/1-bachiller/geometria-analitica/vectores/proyeccion-vectorial-y-escalar-de-un-vector-sobre-otro\n",
    "\n",
    "https://www.academia.edu/33317063/02_vectores_en_el_espacio.pdf\n",
    "\n",
    "https://lasmatematicas.eu/2017/09/22/proyecciones-producto-escalar-de-vectores-aplicaciones/\n",
    "\n",
    "https://youtu.be/d4_6-kF1HdY\n",
    "\n",
    "https://youtu.be/UB_UIpcWC0M\n",
    "\n",
    "https://youtu.be/99ToTe0fGUs\n",
    "\n",
    "https://youtu.be/euXp9CnNSJg\n",
    "\n",
    "https://towardsdatascience.com/naive-classification-using-scalar-projection-with-interactive-code-298279afb11f\n"
   ]
  }
 ],
 "metadata": {
  "kernelspec": {
   "display_name": "Python 3",
   "language": "python",
   "name": "python3"
  },
  "language_info": {
   "codemirror_mode": {
    "name": "ipython",
    "version": 3
   },
   "file_extension": ".py",
   "mimetype": "text/x-python",
   "name": "python",
   "nbconvert_exporter": "python",
   "pygments_lexer": "ipython3",
   "version": "3.7.2"
  }
 },
 "nbformat": 4,
 "nbformat_minor": 2
}
