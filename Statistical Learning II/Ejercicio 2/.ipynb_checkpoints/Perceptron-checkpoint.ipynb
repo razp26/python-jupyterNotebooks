{
 "cells": [
  {
   "cell_type": "code",
   "execution_count": 2,
   "metadata": {},
   "outputs": [],
   "source": [
    "import numpy as np"
   ]
  },
  {
   "cell_type": "code",
   "execution_count": 125,
   "metadata": {},
   "outputs": [],
   "source": [
    "def activation(value):\n",
    "    if value > 0:\n",
    "        return 1\n",
    "    return 0\n",
    "    \n",
    "def neural_network(inputs, weights):\n",
    "    return np.matmul(inputs, weights)\n",
    "\n",
    "def and_operator(x1,x2,bias):\n",
    "    w_and = np.array([1,1,-1])\n",
    "    return activation(neural_network(np.array([x1,x2,bias]), w_and))\n",
    "\n",
    "def or_operator(x1,x2,bias):\n",
    "    w_or = np.array([1,0.5,0])\n",
    "    return activation(neural_network(np.array([x1,x2,bias]), w_or))\n",
    "\n",
    "def not_operator(x1,bias):\n",
    "    w_not = np.array([-1,0.5])\n",
    "    return activation(neural_network(np.array([x1,bias]), w_not))\n",
    "\n",
    "def xor_operator(x1,x2,bias):\n",
    "    return and_operator(not_operator(and_operator(x1,x2,bias),bias), or_operator(x1,x2,bias),bias)\n"
   ]
  },
  {
   "cell_type": "code",
   "execution_count": 134,
   "metadata": {},
   "outputs": [
    {
     "name": "stdout",
     "output_type": "stream",
     "text": [
      "0 AND 0 = 0\n",
      "0 AND 1 = 0\n",
      "1 AND 0 = 0\n",
      "1 AND 1 = 1\n",
      "0 OR 0 = 0\n",
      "0 OR 1 = 1\n",
      "1 OR 0 = 1\n",
      "1 OR 1 = 1\n",
      "NOT 0 = 1\n",
      "NOT 1 = 0\n",
      "0 XOR 0 = 0\n",
      "0 XOR 1 = 1\n",
      "1 XOR 0 = 1\n",
      "1 XOR 1 = 0\n"
     ]
    }
   ],
   "source": [
    "bias = 1\n",
    "x1 = 0\n",
    "x2 = 1\n",
    "\n",
    "# Ciclo AND\n",
    "for i in range(0,2):\n",
    "    for j in range(0,2):\n",
    "        prediction = and_operator(i,j,bias)\n",
    "        print(str(i) + ' AND ' + str(j) + ' = ' + str(prediction))\n",
    "\n",
    "# Ciclo OR\n",
    "for i in range(0,2):\n",
    "    for j in range(0,2):\n",
    "        prediction = or_operator(i,j,bias)\n",
    "        print(str(i) + ' OR ' + str(j) + ' = ' + str(prediction))\n",
    "\n",
    "# Ciclo NOT\n",
    "for i in range(0,2):\n",
    "    prediction = not_operator(i,bias)\n",
    "    print('NOT ' + str(i) + ' = ' + str(prediction))\n",
    "        \n",
    "\n",
    "# Ciclo XOR\n",
    "for i in range(0,2):\n",
    "    for j in range(0,2):\n",
    "        prediction = xor_operator(i,j,bias)\n",
    "        print(str(i) + ' XOR ' + str(j) + ' = ' + str(prediction))\n"
   ]
  }
 ],
 "metadata": {
  "kernelspec": {
   "display_name": "Python 3",
   "language": "python",
   "name": "python3"
  },
  "language_info": {
   "codemirror_mode": {
    "name": "ipython",
    "version": 3
   },
   "file_extension": ".py",
   "mimetype": "text/x-python",
   "name": "python",
   "nbconvert_exporter": "python",
   "pygments_lexer": "ipython3",
   "version": "3.7.3"
  }
 },
 "nbformat": 4,
 "nbformat_minor": 2
}
